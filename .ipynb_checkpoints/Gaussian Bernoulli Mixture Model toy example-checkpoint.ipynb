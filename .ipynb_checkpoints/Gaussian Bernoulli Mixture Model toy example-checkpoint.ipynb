{
 "cells": [
  {
   "cell_type": "markdown",
   "metadata": {},
   "source": [
    "# Gaussian Bernoulli Mixture Model"
   ]
  },
  {
   "cell_type": "markdown",
   "metadata": {},
   "source": [
    "### Definition of the model"
   ]
  },
  {
   "cell_type": "code",
   "execution_count": 23,
   "metadata": {
    "collapsed": true
   },
   "outputs": [],
   "source": [
    "import numpy as np\n",
    "from numpy import linalg\n",
    "import math\n",
    "\n",
    "def em_gbmm(xs_gauss, xs_ber, k, aprox_Sigmas = True, max_iter=100):\n",
    "\n",
    "    n_ber, p_ber = xs_ber.shape\n",
    "    n_gauss, p_gauss = xs_gauss.shape\n",
    "    ll_old = 0\n",
    "\n",
    "    #Inicialization\n",
    "    mus = np.random.random((k,p_gauss))\n",
    "    alpha = np.random.random((k,p_ber))\n",
    "    gamma = np.zeros((k,n_ber))\n",
    "    pis = np.full((k), 1/k)\n",
    "    sigmas = np.array([np.eye(p_gauss)] * k)\n",
    "    ll = 0.0\n",
    "    ll_new = np.zeros([max_iter, 1])\n",
    "\n",
    "    for o in range(max_iter):\n",
    "\n",
    "        ll_new[o] = ll\n",
    "        ll = 0\n",
    "\n",
    "        # E-step\n",
    "        gamma = np.zeros((k, n_gauss))\n",
    "        for j in range(k): #one iteration for every component\n",
    "            for i in range(n_gauss): #one iteration for every row of the data (n_gauss = n_ber)\n",
    "                gamma[j, i] = np.abs(pis[j] * norm_pdf_multivariate(xs_gauss[i], mus[j], sigmas[j]) * pdf_ber(xs_ber[i], alpha[j]))\n",
    "        gamma /= gamma.sum(0)\n",
    "\n",
    "        # M-step\n",
    "        for j in range(k): #one iteration for every component\n",
    "            for i in range(n_gauss):\n",
    "                pis[j] += gamma[j, i] #number of components in cluster k\n",
    "                if(pis[j] < 0.0001): #noise\n",
    "                    pis[j] = 0.0001\n",
    "        pis /= n_gauss #n_gauss = n_ber (140)\n",
    "\n",
    "        for j in range(k): #one iteration for every pi component\n",
    "            for i in range(n_gauss): #one iteration for every row of the data\n",
    "                mus[j] += gamma[j, i] * xs_gauss[i]\n",
    "            total = gamma[j, :].sum()\n",
    "            if (total < 0.0001): #noise\n",
    "                total = 0.0001\n",
    "            mus[j] /= total\n",
    "\n",
    "        noise = np.zeros((p_gauss, p_gauss), float)\n",
    "        np.fill_diagonal(noise, 0.001)\n",
    "\n",
    "        for j in range(k):\n",
    "            for i in range(n_gauss):\n",
    "                ys = np.reshape(xs_gauss[i]- mus[j], (p_gauss,1))\n",
    "                sigmas[j] += gamma[j, i] * np.dot(ys, ys.T)\n",
    "            total = gamma[j, :].sum()\n",
    "            if (total < 0.0001): #noise\n",
    "                total = 0.0001\n",
    "            sigmas[j] /= total\n",
    "            if(aprox_Sigmas):\n",
    "                diagonal = np.diag(np.diag(sigmas[j]))\n",
    "                sigmas[j] = sumMatrix(diagonal,noise)\n",
    "\n",
    "        for j in range(k):\n",
    "            for i in range(n_ber):\n",
    "                alpha[j] += gamma[j,i] * xs_ber[i]\n",
    "            total = gamma[j, :].sum()\n",
    "            if (total < 0.0001):\n",
    "                total = 0.0001\n",
    "            alpha[j] /= total\n",
    "\n",
    "        #Update complete log likelihoood\n",
    "        s = 0.0\n",
    "        for i in range(n_gauss):\n",
    "            for j in range(k):\n",
    "                s += pis[j] * pdf_ber(xs_ber[i], alpha[j]) * norm_pdf_multivariate(xs_gauss[i], mus[j], sigmas[j])\n",
    "            try:\n",
    "                ll += np.log(s)\n",
    "            except ValueError:\n",
    "                print(\"Error in computation of log likelihood\")\n",
    "                ll += ll_old\n",
    "                continue\n",
    "\n",
    "    return [ll_new, pis, mus, sigmas, alpha, gamma]\n",
    "\n",
    "\n",
    "def pdf_ber(xs2,alpha2):\n",
    "\n",
    "    D = len(xs2)\n",
    "    result = 1\n",
    "    for k in range(D):\n",
    "        if alpha2[k] < 0.001:\n",
    "            alpha2[k] = 0.001\n",
    "        result *= ((alpha2[k])**(xs2[k])) * ((1-alpha2[k])**(1-xs2[k]))\n",
    "\n",
    "    return result\n",
    "\n",
    "def sumMatrix( mA, mB ) :\n",
    "    # create a matrix with mA height and width, filled with zeros\n",
    "    result = [ [ 0 for y in range( len( mA[ 0 ] ) ) ] for x in range( len( mA ) ) ]\n",
    "\n",
    "    for i in range( len( mA ) ):\n",
    "        for j in range( len( mA[ 0 ] ) ):\n",
    "            result[ i ][ j ] = mA[ i ][ j ] + mB[ i ][ j ]\n",
    "\n",
    "    return result\n",
    "\n",
    "def norm_pdf_multivariate(x, mu, sigma):\n",
    "    size = len(x)\n",
    "    if size == len(mu) and (size, size) == sigma.shape:\n",
    "        det = linalg.det(sigma)\n",
    "        if det == 0:\n",
    "            raise ValueError(\"Covariance matrix singlar!\")\n",
    "\n",
    "        norm_const = 1.0/ ( math.pow((2*math.pi),float(size)/2) * math.pow(det,1.0/2) )\n",
    "        x_mu = np.matrix(x - mu)\n",
    "        inv = np.linalg.inv(sigma)\n",
    "        try:\n",
    "            result = math.pow(math.e, -0.5 * (x_mu * inv * x_mu.T))\n",
    "        except OverflowError:\n",
    "            result = float('inf')\n",
    "\n",
    "        return norm_const * result\n",
    "    else:\n",
    "        raise ValueError(\"The dimensions of the input don't match\")\n"
   ]
  },
  {
   "cell_type": "markdown",
   "metadata": {},
   "source": [
    "### Toy example with ground truth for testing the model"
   ]
  },
  {
   "cell_type": "code",
   "execution_count": 50,
   "metadata": {},
   "outputs": [
    {
     "name": "stderr",
     "output_type": "stream",
     "text": [
      "/Users/franciscocobo/anaconda3/lib/python3.6/site-packages/ipykernel_launcher.py:26: RuntimeWarning: covariance is not positive-semidefinite.\n"
     ]
    },
    {
     "data": {
      "image/png": "[encoded data removed]",
      "text/plain": [
       "<matplotlib.figure.Figure at 0x1a144a1be0>"
      ]
     },
     "metadata": {},
     "output_type": "display_data"
    }
   ],
   "source": [
    "import matplotlib.pyplot as plt\n",
    "from pylab import rcParams\n",
    "rcParams['figure.figsize'] = 10, 7\n",
    "# create data set\n",
    "#np.random.seed(123)\n",
    "\n",
    "n_data = 500 #NUMBER OF SAMPLES\n",
    "\n",
    "prob_cluster1 = 0.5\n",
    "prob_cluster2 = 0.25\n",
    "prob_cluster3 = 0.25\n",
    "\n",
    "\n",
    "# Z DEFINITION\n",
    "from bayespy.utils import random\n",
    "z = random.categorical([prob_cluster1, prob_cluster2, prob_cluster3], size=n_data)\n",
    "\n",
    "#GAUSSIAN DATA\n",
    "\n",
    "means = [0, 0],[5, 0],[2, 0]\n",
    "covar = [[0, 2], [0.1, 0]], [[0, 2], [0.1, 0]], [[0, 2], [0.1, 0]]\n",
    "\n",
    "xs_gauss = np.zeros((n_data,2))\n",
    "i = 0\n",
    "while i < len(z):\n",
    "    index = z[i]\n",
    "    xs_gauss[i] = np.random.multivariate_normal(means[index], covar[index])\n",
    "    i = i +1\n",
    "\n",
    "import bayespy.plot as bpplt\n",
    "bpplt.pyplot.plot(xs_gauss[:,0], xs_gauss[:,1], 'rx')\n",
    "\n",
    "#BERNOULLI DATA\n",
    "p0 = [0.1, 0.9, 0.1, 0.9, 0.1, 0.9, 0.1, 0.9, 0.1, 0.9]\n",
    "p1 = [0.1, 0.1, 0.1, 0.1, 0.1, 0.9, 0.9, 0.9, 0.9, 0.9]\n",
    "p2 = [0.9, 0.9, 0.9, 0.9, 0.9, 0.1, 0.1, 0.1, 0.1, 0.1]\n",
    "p = np.array([p0, p1, p2])\n",
    "x = random.bernoulli(p[z])\n",
    "xs_ber = x + 0\n",
    "\n",
    "k = 3 #num de clusters\n",
    "\n",
    "[loglikelihood, pis, mus, sigmas, alpha, gamma] = em_gbmm(xs_gauss, xs_ber, k, aprox_Sigmas = False, max_iter = 100)\n",
    "\n",
    "gamma = np.round(gamma,3).copy()"
   ]
  },
  {
   "cell_type": "code",
   "execution_count": 51,
   "metadata": {},
   "outputs": [
    {
     "name": "stdout",
     "output_type": "stream",
     "text": [
      "[1 0 1 0 2 0 0 2 0 0 1 0 1 0 0 0 0 0 1 0 0 2 1 2 1 0 0 0 0 1 1 2 0 2 1 0 1\n",
      " 1 0 0 1 2 0 2 1 1 0 0 0 2 1 0 0 0 0 2 0 0 0 0 0 0 1 0 2 0 1 0 1 0 1 1 0 2\n",
      " 2 0 0 1 0 2 0 0 2 0 0 2 0 0 2 0 0 0 2 2 2 0 1 0 0 0 0 2 2 0 0 2 1 2 2 1 2\n",
      " 0 0 0 2 0 2 1 2 2 1 1 1 0 1 0 0 1 0 0 2 1 0 0 0 0 0 2 0 2 2 2 0 1 1 1 1 0\n",
      " 2 0 2 2 0 1 0 0 1 0 0 0 2 1 2 1 2 1 1 0 1 2 1 1 0 0 0 1 0 1 0 0 2 1 0 0 0\n",
      " 0 1 0 0 0 0 0 0 2 0 2 1 2 0 0 2 2 1 0 1 0 0 1 2 0 1 1 0 0 2 0 0 1 0 2 0 1\n",
      " 0 2 0 1 2 0 1 0 1 0 2 0 1 0 1 0 0 2 1 0 0 0 0 0 1 0 0 2 1 0 0 2 0 0 2 0 0\n",
      " 2 2 1 1 1 1 0 0 0 0 0 2 0 2 2 0 0 1 0 0 2 1 2 0 1 0 0 0 0 2 0 2 0 0 2 0 0\n",
      " 0 0 2 2 1 0 1 1 0 0 0 0 0 2 0 0 0 1 2 1 2 1 2 1 1 2 2 2 0 0 2 2 2 1 0 0 0\n",
      " 0 0 1 1 0 2 2 1 2 0 1 2 0 2 1 2 2 1 2 0 2 1 0 0 0 0 0 0 2 0 0 0 0 1 2 1 2\n",
      " 2 0 0 2 0 2 2 0 0 0 1 0 0 1 2 2 0 1 2 0 0 0 0 1 1 0 0 2 0 2 1 0 0 2 1 2 0\n",
      " 0 0 0 0 0 2 0 2 0 0 0 2 1 0 2 2 1 0 0 0 2 1 2 0 2 1 0 1 0 2 1 1 0 0 0 0 0\n",
      " 2 0 2 1 2 0 2 0 0 0 2 0 0 0 0 0 0 2 0 2 2 1 1 0 1 1 0 1 1 0 1 1 0 2 0 2 1\n",
      " 2 0 0 2 1 0 1 2 2 0 1 0 2 2 1 1 2 0 0]\n"
     ]
    }
   ],
   "source": [
    "print(z)"
   ]
  },
  {
   "cell_type": "code",
   "execution_count": 52,
   "metadata": {},
   "outputs": [
    {
     "name": "stdout",
     "output_type": "stream",
     "text": [
      "[[ 1.  0.  1. ...,  0.  0.  0.]\n",
      " [ 0.  1.  0. ...,  0.  1.  1.]\n",
      " [ 0.  0.  0. ...,  1.  0.  0.]]\n"
     ]
    }
   ],
   "source": [
    "print(gamma)"
   ]
  },
  {
   "cell_type": "markdown",
   "metadata": {},
   "source": [
    "### Scatter separability"
   ]
  },
  {
   "cell_type": "code",
   "execution_count": 53,
   "metadata": {
    "collapsed": true
   },
   "outputs": [],
   "source": [
    "k = 3\n",
    "n, p = xs_gauss.shape\n",
    "\n",
    "S_w = np.zeros((p,p))\n",
    "M_o = np.zeros((1,p))\n",
    "S_b = np.zeros((p,p)) \n",
    "\n",
    "for j in range(k):\n",
    "    S_w += pis[j] * sigmas[j]\n",
    "    \n",
    "for j in range(k):\n",
    "    M_o += pis[j] * mus[j]\n",
    "    \n",
    "for j in range(k):\n",
    "    S_b += pis[j] * (mus[j] - M_o) * np.transpose((mus[j] - M_o))\n"
   ]
  },
  {
   "cell_type": "code",
   "execution_count": 54,
   "metadata": {},
   "outputs": [
    {
     "name": "stdout",
     "output_type": "stream",
     "text": [
      "[[ 1.71555481  0.15355347]]\n"
     ]
    }
   ],
   "source": [
    "print(M_o)"
   ]
  },
  {
   "cell_type": "code",
   "execution_count": 55,
   "metadata": {},
   "outputs": [
    {
     "name": "stdout",
     "output_type": "stream",
     "text": [
      "[[ 0.10115103  0.00731831]\n",
      " [ 0.00731831  1.98959434]]\n"
     ]
    }
   ],
   "source": [
    "print(S_w)"
   ]
  },
  {
   "cell_type": "code",
   "execution_count": 56,
   "metadata": {},
   "outputs": [
    {
     "name": "stdout",
     "output_type": "stream",
     "text": [
      "[[ 4.11049656  0.04790396]\n",
      " [ 0.04790396  0.00525685]]\n"
     ]
    }
   ],
   "source": [
    "print(S_b)"
   ]
  },
  {
   "cell_type": "markdown",
   "metadata": {},
   "source": [
    "### Bayesian Information Criterion"
   ]
  },
  {
   "cell_type": "code",
   "execution_count": 57,
   "metadata": {},
   "outputs": [
    {
     "data": {
      "image/png": "[encoded data removed]",
      "text/plain": [
       "<matplotlib.figure.Figure at 0x1a124e3898>"
      ]
     },
     "metadata": {},
     "output_type": "display_data"
    }
   ],
   "source": [
    "from sklearn import mixture\n",
    "\n",
    "K_list = range(1,10)\n",
    "BIC_list = [] \n",
    "\n",
    "for k in K_list:\n",
    "    gmm = mixture.GaussianMixture(n_components=k,covariance_type='full').fit(xs_gauss)\n",
    "    BIC_list.append(gmm.bic(xs_gauss))\n",
    "\n",
    "plt.figure() \n",
    "plt.plot(K_list,BIC_list)\n",
    "plt.xlabel('Number of components')\n",
    "plt.ylabel('BIC')\n",
    "plt.grid()"
   ]
  },
  {
   "cell_type": "code",
   "execution_count": null,
   "metadata": {
    "collapsed": true
   },
   "outputs": [],
   "source": []
  }
 ],
 "metadata": {
  "kernelspec": {
   "display_name": "Python 3",
   "language": "python",
   "name": "python3"
  },
  "language_info": {
   "codemirror_mode": {
    "name": "ipython",
    "version": 3
   },
   "file_extension": ".py",
   "mimetype": "text/x-python",
   "name": "python",
   "nbconvert_exporter": "python",
   "pygments_lexer": "ipython3",
   "version": "3.6.2"
  }
 },
 "nbformat": 4,
 "nbformat_minor": 2
}
